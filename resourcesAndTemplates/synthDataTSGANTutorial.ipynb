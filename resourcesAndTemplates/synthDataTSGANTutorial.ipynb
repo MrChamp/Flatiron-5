{
 "cells": [
  {
   "cell_type": "markdown",
   "metadata": {},
   "source": [
    "# TSGAN Tutorial\n",
    "\n",
    "This tutorial follows:\n",
    "https://towardsdatascience.com/synthetic-time-series-data-a-gan-approach-869a984f2239\n"
   ]
  },
  {
   "cell_type": "code",
   "execution_count": 1,
   "metadata": {},
   "outputs": [],
   "source": [
    "from os import path\n",
    "import pandas as pd\n",
    "import numpy as np\n",
    "import matplotlib.pyplot as plt\n",
    "import seaborn as sns\n",
    "\n",
    "from ydata_synthetic.preprocessing.timeseries import processed_stock\n",
    "from ydata_synthetic.synthesizers.timeseries import TimeGAN"
   ]
  },
  {
   "cell_type": "code",
   "execution_count": 14,
   "metadata": {},
   "outputs": [],
   "source": [
    "hist_path = '/home/steve/documents/flatIron/fIProject/DF/current_hist.csv'\n",
    "msft_hist = pd.read_csv(hist_path)\n",
    "msft_hist.drop(columns=['ticker', 'date'],axis=0, errors='ignore', inplace=True,)\n",
    "# msft_hist.set_index('date')"
   ]
  },
  {
   "cell_type": "code",
   "execution_count": 21,
   "metadata": {},
   "outputs": [],
   "source": [
    "msft_array = msft_hist.to_numpy()\n",
    "msft_len = len(msft_array)"
   ]
  },
  {
   "cell_type": "code",
   "execution_count": 38,
   "metadata": {},
   "outputs": [],
   "source": [
    "# write function that creates rolling data over 24 element periods\n",
    "# np.reshape(msft_array, (2,2))\n",
    "# I'll just use the author's data for now"
   ]
  },
  {
   "cell_type": "code",
   "execution_count": null,
   "metadata": {},
   "outputs": [],
   "source": [
    "seq_len = 24\n",
    "n_seq = 6\n",
    "hidden_dim = 24\n",
    "gamma = 1\n",
    "\n",
    "noise_dim = 32\n",
    "dim = 128\n",
    "batch_size = 128\n",
    "\n",
    "log_step = 100\n",
    "learning_rate = 5e-4\n",
    "\n",
    "gan_args = [batch_size, learning_rate, noise_dim, 24, 2, (0,1), dim]"
   ]
  },
  {
   "cell_type": "code",
   "execution_count": null,
   "metadata": {},
   "outputs": [],
   "source": [
    "stock_data = processed_stock(seq_len=seq_len)\n",
    "print(len(stock_data),stock_data[0].shape)"
   ]
  },
  {
   "cell_type": "code",
   "execution_count": null,
   "metadata": {},
   "outputs": [],
   "source": [
    "# synth_path = '/home/steve/documents/flatIron/fIProject/DF/synthesizer_stock.pkl'\n",
    "# if path.exists(synth_path):\n",
    "#     synth = TimeGAN.load(synth_path)\n",
    "# else:\n",
    "#     synth = TimeGAN(model_parameters=gan_args, hidden_dim=24, seq_len=seq_len, n_seq=n_seq, gamma=1)\n",
    "#     synth.train(stock_data, train_steps = 50000)\n",
    "#     synth.save(synth_path)"
   ]
  },
  {
   "cell_type": "code",
   "execution_count": null,
   "metadata": {},
   "outputs": [],
   "source": [
    "def make_net(model, n_layers, hidden_units, output_units, net_type='GRU'):\n",
    "    if net_type == \"GRU\":\n",
    "        for i in range(n_layers):\n",
    "            model.add(GRU(units=hidden_units,\n",
    "                         return_sequences=True,\n",
    "                         name=f'GRU_{i+1}'))\n",
    "    else:\n",
    "        for i in range(n_layers):\n",
    "            model.add(LSTM(units=hidden_units,\n",
    "                              return_sequences=True,\n",
    "                              name=f'LSTM_{i+1}'))\n",
    "    model.add(Dense(units=output_units,\n",
    "                       activation='sigmoid',\n",
    "                       name='OUT'))\n",
    "    return model"
   ]
  },
  {
   "cell_type": "code",
   "execution_count": null,
   "metadata": {},
   "outputs": [],
   "source": []
  }
 ],
 "metadata": {
  "kernelspec": {
   "display_name": "Python 3",
   "language": "python",
   "name": "python3"
  },
  "language_info": {
   "codemirror_mode": {
    "name": "ipython",
    "version": 3
   },
   "file_extension": ".py",
   "mimetype": "text/x-python",
   "name": "python",
   "nbconvert_exporter": "python",
   "pygments_lexer": "ipython3",
   "version": "3.8.5"
  }
 },
 "nbformat": 4,
 "nbformat_minor": 4
}
