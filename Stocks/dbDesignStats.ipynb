{
 "cells": [
  {
   "cell_type": "code",
   "execution_count": 1,
   "metadata": {},
   "outputs": [],
   "source": [
    "import pandas as pd\n",
    "import numpy as np"
   ]
  },
  {
   "cell_type": "code",
   "execution_count": 3,
   "metadata": {},
   "outputs": [
    {
     "data": {
      "text/html": [
       "<div>\n",
       "<style scoped>\n",
       "    .dataframe tbody tr th:only-of-type {\n",
       "        vertical-align: middle;\n",
       "    }\n",
       "\n",
       "    .dataframe tbody tr th {\n",
       "        vertical-align: top;\n",
       "    }\n",
       "\n",
       "    .dataframe thead th {\n",
       "        text-align: right;\n",
       "    }\n",
       "</style>\n",
       "<table border=\"1\" class=\"dataframe\">\n",
       "  <thead>\n",
       "    <tr style=\"text-align: right;\">\n",
       "      <th></th>\n",
       "      <th>Symbol</th>\n",
       "      <th>Name</th>\n",
       "      <th>LastSale</th>\n",
       "      <th>MarketCap</th>\n",
       "      <th>IPOyear</th>\n",
       "      <th>Sector</th>\n",
       "      <th>industry</th>\n",
       "      <th>Summary Quote</th>\n",
       "      <th>Unnamed: 8</th>\n",
       "    </tr>\n",
       "  </thead>\n",
       "  <tbody>\n",
       "    <tr>\n",
       "      <th>0</th>\n",
       "      <td>GOED</td>\n",
       "      <td>1847 Goedeker Inc.</td>\n",
       "      <td>9.32</td>\n",
       "      <td>$56.96M</td>\n",
       "      <td>2020.0</td>\n",
       "      <td>Consumer Services</td>\n",
       "      <td>Home Furnishings</td>\n",
       "      <td>https://old.nasdaq.com/symbol/goed</td>\n",
       "      <td>NaN</td>\n",
       "    </tr>\n",
       "    <tr>\n",
       "      <th>1</th>\n",
       "      <td>XXII</td>\n",
       "      <td>22nd Century Group, Inc</td>\n",
       "      <td>2.78</td>\n",
       "      <td>$386.03M</td>\n",
       "      <td>NaN</td>\n",
       "      <td>Consumer Non-Durables</td>\n",
       "      <td>Farming/Seeds/Milling</td>\n",
       "      <td>https://old.nasdaq.com/symbol/xxii</td>\n",
       "      <td>NaN</td>\n",
       "    </tr>\n",
       "    <tr>\n",
       "      <th>2</th>\n",
       "      <td>FAX</td>\n",
       "      <td>Aberdeen Asia-Pacific Income Fund Inc</td>\n",
       "      <td>4.35</td>\n",
       "      <td>$1.08B</td>\n",
       "      <td>1986.0</td>\n",
       "      <td>NaN</td>\n",
       "      <td>NaN</td>\n",
       "      <td>https://old.nasdaq.com/symbol/fax</td>\n",
       "      <td>NaN</td>\n",
       "    </tr>\n",
       "    <tr>\n",
       "      <th>3</th>\n",
       "      <td>IAF</td>\n",
       "      <td>Aberdeen Australia Equity Fund Inc</td>\n",
       "      <td>5.41</td>\n",
       "      <td>$125.11M</td>\n",
       "      <td>NaN</td>\n",
       "      <td>NaN</td>\n",
       "      <td>NaN</td>\n",
       "      <td>https://old.nasdaq.com/symbol/iaf</td>\n",
       "      <td>NaN</td>\n",
       "    </tr>\n",
       "    <tr>\n",
       "      <th>4</th>\n",
       "      <td>AEF</td>\n",
       "      <td>Aberdeen Emerging Markets Equity Income Fund, ...</td>\n",
       "      <td>8.47</td>\n",
       "      <td>$429.87M</td>\n",
       "      <td>NaN</td>\n",
       "      <td>NaN</td>\n",
       "      <td>NaN</td>\n",
       "      <td>https://old.nasdaq.com/symbol/aef</td>\n",
       "      <td>NaN</td>\n",
       "    </tr>\n",
       "  </tbody>\n",
       "</table>\n",
       "</div>"
      ],
      "text/plain": [
       "  Symbol                                               Name  LastSale  \\\n",
       "0   GOED                                 1847 Goedeker Inc.      9.32   \n",
       "1   XXII                            22nd Century Group, Inc      2.78   \n",
       "2    FAX              Aberdeen Asia-Pacific Income Fund Inc      4.35   \n",
       "3    IAF                 Aberdeen Australia Equity Fund Inc      5.41   \n",
       "4    AEF  Aberdeen Emerging Markets Equity Income Fund, ...      8.47   \n",
       "\n",
       "  MarketCap  IPOyear                 Sector               industry  \\\n",
       "0   $56.96M   2020.0      Consumer Services       Home Furnishings   \n",
       "1  $386.03M      NaN  Consumer Non-Durables  Farming/Seeds/Milling   \n",
       "2    $1.08B   1986.0                    NaN                    NaN   \n",
       "3  $125.11M      NaN                    NaN                    NaN   \n",
       "4  $429.87M      NaN                    NaN                    NaN   \n",
       "\n",
       "                        Summary Quote  Unnamed: 8  \n",
       "0  https://old.nasdaq.com/symbol/goed         NaN  \n",
       "1  https://old.nasdaq.com/symbol/xxii         NaN  \n",
       "2   https://old.nasdaq.com/symbol/fax         NaN  \n",
       "3   https://old.nasdaq.com/symbol/iaf         NaN  \n",
       "4   https://old.nasdaq.com/symbol/aef         NaN  "
      ]
     },
     "execution_count": 3,
     "metadata": {},
     "output_type": "execute_result"
    }
   ],
   "source": [
    "df = pd.read_csv('/home/steve/documents/flatIron/fIProject/Stocks/combined_pared_df.csv')\n",
    "df.head()"
   ]
  },
  {
   "cell_type": "code",
   "execution_count": 26,
   "metadata": {},
   "outputs": [
    {
     "name": "stdout",
     "output_type": "stream",
     "text": [
      "3.645513890997419 0.6775291087545389\n",
      "6\n"
     ]
    }
   ],
   "source": [
    "# how long should the ticker varchar be?\n",
    "df['symbol_len'] = df['Symbol'].str.len()\n",
    "\n",
    "sym_len = df['symbol_len']\n",
    "\n",
    "\n",
    "print(sym_len.mean(), sym_len.std())\n",
    "print(sym_len.max())\n",
    "\n",
    "# the overhead cost of varchar vs char is 1-2 bytes...maybe a better system than varchar(6) could be found\n",
    "# but that's what the database will be for now but this is still slightly better than char(6)"
   ]
  },
  {
   "cell_type": "code",
   "execution_count": 34,
   "metadata": {},
   "outputs": [
    {
     "name": "stdout",
     "output_type": "stream",
     "text": [
      "Symbol\n",
      "3.645513890997419 0.6775291087545389\n",
      "6\n",
      "Name\n",
      "25.35964779110369 9.917186663177684\n",
      "62\n",
      "MarketCap\n",
      "6.965872733736225 0.9513917351732684\n",
      "10.0\n",
      "Sector\n",
      "11.980559593023257 4.124513966519367\n",
      "21.0\n",
      "industry\n",
      "23.27016715116279 11.412756088466985\n",
      "62.0\n",
      "Summary Quote\n",
      "33.64551389099742 0.6775291087545389\n",
      "36\n"
     ]
    }
   ],
   "source": [
    "# using the same approach to every non-number column:\n",
    "for col in df.columns:\n",
    "    if df[col].dtypes == object:\n",
    "        lens = df[col].str.len()\n",
    "    \n",
    "        print(col)\n",
    "        print(lens.mean(), lens.std())\n",
    "        print(lens.max())"
   ]
  },
  {
   "cell_type": "code",
   "execution_count": null,
   "metadata": {},
   "outputs": [],
   "source": []
  }
 ],
 "metadata": {
  "kernelspec": {
   "display_name": "Python 3",
   "language": "python",
   "name": "python3"
  },
  "language_info": {
   "codemirror_mode": {
    "name": "ipython",
    "version": 3
   },
   "file_extension": ".py",
   "mimetype": "text/x-python",
   "name": "python",
   "nbconvert_exporter": "python",
   "pygments_lexer": "ipython3",
   "version": "3.8.5"
  }
 },
 "nbformat": 4,
 "nbformat_minor": 4
}
