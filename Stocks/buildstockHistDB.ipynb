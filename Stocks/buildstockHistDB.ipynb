{
 "cells": [
  {
   "cell_type": "code",
   "execution_count": 1,
   "metadata": {},
   "outputs": [],
   "source": [
    "import yfinance as yf\n",
    "import pandas as pd\n",
    "import numpy as np\n",
    "import datetime as dt\n",
    "\n",
    "import pymysql\n",
    "import mysql.connector\n",
    "from sqlalchemy import create_engine\n",
    "\n",
    "pd.options.mode.chained_assignment = None"
   ]
  },
  {
   "cell_type": "code",
   "execution_count": 2,
   "metadata": {},
   "outputs": [],
   "source": [
    "user = 'flatiron'\n",
    "pwd = 'flatiron'\n",
    "host = '127.0.0.1'\n",
    "shporty = '3306'\n",
    "db = 'stock'\n",
    "connector = 'mysql+mysqlconnector://'+user+':'+pwd+'@'+host+':'+shporty+'/'+db\n",
    "engine = create_engine(connector, echo=False)"
   ]
  },
  {
   "cell_type": "code",
   "execution_count": 10,
   "metadata": {},
   "outputs": [],
   "source": [
    "list_path = '/home/steve/documents/flatIron/fIProject/Stocks/master_list_no_empty.csv'\n",
    "csv_dir_path = '/home/steve/documents/finance/dbs/csvs/'"
   ]
  },
  {
   "cell_type": "code",
   "execution_count": 81,
   "metadata": {},
   "outputs": [],
   "source": [
    "stock_list = pd.read_csv(list_path)\n",
    "new_stock_list = stock_list.iloc[1691:]"
   ]
  },
  {
   "cell_type": "code",
   "execution_count": 42,
   "metadata": {},
   "outputs": [],
   "source": [
    "# str -> df\n",
    "# returns a dataframe of the given stock name\n",
    "def read_stock_csv(name):\n",
    "    # import format:\n",
    "    # pd.read_csv(csv_dir_path + STOCK + '.csv')\n",
    "    return pd.read_csv(csv_dir_path + name + '.csv')"
   ]
  },
  {
   "cell_type": "code",
   "execution_count": 43,
   "metadata": {},
   "outputs": [],
   "source": [
    "# pd.DataFrame, String -> pd.DataFrame\n",
    "# returns a cleaned dataframe to be added into the db\n",
    "def clean_df(df, ticker):\n",
    "    # drops\n",
    "    to_drop = ['Dividends', 'Stock Splits', 'Adj Close']\n",
    "    df.drop(columns=to_drop, inplace=True, errors='ignore', axis=0)\n",
    "    df.dropna(inplace=True)\n",
    "    \n",
    "    # adds\n",
    "    df['ticker'] = ticker\n",
    "    \n",
    "    return df"
   ]
  },
  {
   "cell_type": "code",
   "execution_count": 84,
   "metadata": {},
   "outputs": [],
   "source": [
    "# Populates stockHist MySQL table with historical stock data\n",
    "for ticker in new_stock_list['ticker']:\n",
    "    try:\n",
    "        stock_df = read_stock_csv(ticker)\n",
    "        stock_df = clean_df(stock_df, ticker)\n",
    "        stock_df.to_sql(name='stockHist', con=engine, if_exists='append', index=False)\n",
    "    except:\n",
    "        pass"
   ]
  },
  {
   "cell_type": "code",
   "execution_count": null,
   "metadata": {},
   "outputs": [],
   "source": []
  }
 ],
 "metadata": {
  "kernelspec": {
   "display_name": "Python 3",
   "language": "python",
   "name": "python3"
  },
  "language_info": {
   "codemirror_mode": {
    "name": "ipython",
    "version": 3
   },
   "file_extension": ".py",
   "mimetype": "text/x-python",
   "name": "python",
   "nbconvert_exporter": "python",
   "pygments_lexer": "ipython3",
   "version": "3.8.5"
  }
 },
 "nbformat": 4,
 "nbformat_minor": 4
}
