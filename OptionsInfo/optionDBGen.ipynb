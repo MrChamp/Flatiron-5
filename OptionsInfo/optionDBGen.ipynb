{
 "cells": [
  {
   "cell_type": "code",
   "execution_count": 1,
   "metadata": {},
   "outputs": [],
   "source": [
    "import yfinance as yf\n",
    "import pandas as pd\n",
    "import numpy as np\n",
    "import datetime as dt\n",
    "\n",
    "import pymysql\n",
    "import mysql.connector\n",
    "from sqlalchemy import create_engine\n",
    "\n",
    "pd.options.mode.chained_assignment = None"
   ]
  },
  {
   "cell_type": "code",
   "execution_count": 2,
   "metadata": {},
   "outputs": [
    {
     "name": "stdout",
     "output_type": "stream",
     "text": [
      "yfinance v: 0.1.54\n",
      "pandas v: 1.1.3\n",
      "numpy v: 1.19.2\n"
     ]
    }
   ],
   "source": [
    "print(\"yfinance v:\",yf.__version__)\n",
    "print(\"pandas v:\",pd.__version__)\n",
    "print(\"numpy v:\",np.__version__)"
   ]
  },
  {
   "cell_type": "code",
   "execution_count": 3,
   "metadata": {},
   "outputs": [],
   "source": [
    "user = 'flatiron'\n",
    "pwd = 'flatiron'\n",
    "host = '127.0.0.1'\n",
    "shporty = '3306'\n",
    "db = 'stock'\n",
    "connector = 'mysql+mysqlconnector://'+user+':'+pwd+'@'+host+':'+shporty+'/'+db\n",
    "engine = create_engine(connector, echo=False)"
   ]
  },
  {
   "cell_type": "code",
   "execution_count": 4,
   "metadata": {},
   "outputs": [],
   "source": [
    "# string, listOfDates, bool -> pd.DataFrame\n",
    "# returns a dataframe of calls or puts for list of expiry dates\n",
    "#    for a given ticker symbol string\n",
    "def c_p_df(exp_dates, is_call):\n",
    "\n",
    "    df = pd.DataFrame()\n",
    "    \n",
    "    columns_to_drop = ['contractSymbol','bid','ask','change','percentChange','openInterest']\n",
    "    columns_maybe_drop = ['contractSize', 'lastTradeDate','currency']\n",
    "    both_dropped = columns_to_drop + columns_maybe_drop\n",
    "    \n",
    "    for exp in exp_dates:\n",
    "        if is_call:\n",
    "            call = stock.option_chain(exp).calls\n",
    "            call['ticker'] = ticker # WILL HAVE TO CHANGE THIS WHEN MORE TICKERS ADDED\n",
    "            call['expDate'] = np.array(exp)\n",
    "            call['mineDate'] = dt.datetime.today().__format__('%Y-%m-%d')\n",
    "            df = pd.concat([df, call])\n",
    "            df.drop(both_dropped, axis=1, inplace=True)\n",
    "        else:\n",
    "            put = stock.option_chain(exp).puts\n",
    "            put['ticker'] = ticker # WILL HAVE TO CHANGE THIS WHEN MORE TICKERS ADDED\n",
    "            put['expDate'] = np.array(exp)\n",
    "            put['mineDate'] = dt.datetime.today().__format__('%Y-%m-%d')\n",
    "            df = pd.concat([df, put])\n",
    "            df.drop(both_dropped, axis=1, inplace=True)\n",
    "    return df"
   ]
  },
  {
   "cell_type": "code",
   "execution_count": 5,
   "metadata": {},
   "outputs": [],
   "source": [
    "ticker_list = pd.read_csv('/home/steve/documents/flatIron/fIProject/Stocks/master_list_no_empty.csv')['ticker']"
   ]
  },
  {
   "cell_type": "code",
   "execution_count": null,
   "metadata": {},
   "outputs": [],
   "source": [
    "for tick in ticker_list:\n",
    "    #although currently unnecessary can be moved outside\n",
    "    #loop to build one complete list of all c/p\n",
    "    all_calls = pd.DataFrame()\n",
    "    all_puts = pd.DataFrame()\n",
    "    c_and_p = pd.DataFrame()\n",
    "    try:\n",
    "        #generates call/put options chains for each ticker\n",
    "        ticker = tick\n",
    "        stock = yf.Ticker(ticker)\n",
    "        expiry_dates = stock.options\n",
    "        \n",
    "        # populate calls/puts dataframes with c/p data\n",
    "        all_calls = pd.concat([all_calls, c_p_df(expiry_dates, is_call=True)])\n",
    "        all_puts = pd.concat([all_puts, c_p_df(expiry_dates, is_call=False)]) \n",
    "        \n",
    "        # add col call to both dfs for join\n",
    "        all_calls['call'] = True\n",
    "        all_puts['call'] = False\n",
    "        \n",
    "        # join dfs - note: this could all be done more efficiently in less steps\n",
    "        c_and_p = pd.concat([all_calls, all_puts])\n",
    "        \n",
    "        # appends calls and puts to db\n",
    "        c_and_p.to_sql(name='options', con=engine, if_exists='append', index=False)\n",
    "        \n",
    "        # for separate tables - not efficient, much redundancy \n",
    "#         all_calls.to_sql(name='calls', con=engine, if_exists = 'append', index=False)\n",
    "#         all_puts.to_sql(name='puts', con=engine, if_exists = 'append', index=False)\n",
    "    except:\n",
    "        pass"
   ]
  },
  {
   "cell_type": "code",
   "execution_count": null,
   "metadata": {},
   "outputs": [],
   "source": []
  }
 ],
 "metadata": {
  "kernelspec": {
   "display_name": "Python 3",
   "language": "python",
   "name": "python3"
  },
  "language_info": {
   "codemirror_mode": {
    "name": "ipython",
    "version": 3
   },
   "file_extension": ".py",
   "mimetype": "text/x-python",
   "name": "python",
   "nbconvert_exporter": "python",
   "pygments_lexer": "ipython3",
   "version": "3.8.5"
  }
 },
 "nbformat": 4,
 "nbformat_minor": 4
}
